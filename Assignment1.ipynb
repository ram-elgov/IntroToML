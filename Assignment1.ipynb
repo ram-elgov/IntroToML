{
  "nbformat": 4,
  "nbformat_minor": 0,
  "metadata": {
    "colab": {
      "provenance": [],
      "authorship_tag": "ABX9TyMdfxSGOBFsGxC5rtwj2MVY",
      "include_colab_link": true
    },
    "kernelspec": {
      "name": "python3",
      "display_name": "Python 3"
    },
    "language_info": {
      "name": "python"
    }
  },
  "cells": [
    {
      "cell_type": "markdown",
      "metadata": {
        "id": "view-in-github",
        "colab_type": "text"
      },
      "source": [
        "<a href=\"https://colab.research.google.com/github/ram-elgov/IntroToML/blob/main/Assignment1.ipynb\" target=\"_parent\"><img src=\"https://colab.research.google.com/assets/colab-badge.svg\" alt=\"Open In Colab\"/></a>"
      ]
    },
    {
      "cell_type": "markdown",
      "source": [
        "# 1. Visualizing the Hoeffding bound (10 pts)."
      ],
      "metadata": {
        "id": "b9-LcvpSZc0n"
      }
    },
    {
      "cell_type": "markdown",
      "source": [
        "## imports"
      ],
      "metadata": {
        "id": "hq_25zvla1TZ"
      }
    },
    {
      "cell_type": "code",
      "source": [
        "import numpy as np\n",
        "import numpy.random\n",
        "from sklearn.datasets import fetch_openml"
      ],
      "metadata": {
        "id": "jJNFYVmbaDB7"
      },
      "execution_count": null,
      "outputs": []
    },
    {
      "cell_type": "markdown",
      "source": [
        "## constants"
      ],
      "metadata": {
        "id": "n7wlVu-mbBXJ"
      }
    },
    {
      "cell_type": "code",
      "source": [
        "N = 200000\n",
        "n = 20\n",
        "p = 0.5"
      ],
      "metadata": {
        "id": "Yu8IEgeKaxi5"
      },
      "execution_count": null,
      "outputs": []
    },
    {
      "cell_type": "markdown",
      "source": [
        "## generate Nxn matrix"
      ],
      "metadata": {
        "id": "K8emK7GRbO2h"
      }
    },
    {
      "cell_type": "code",
      "source": [
        "samples = np.random.binomial(1, p, size=(N,n))"
      ],
      "metadata": {
        "id": "L_gN691cbkK1"
      },
      "execution_count": null,
      "outputs": []
    },
    {
      "cell_type": "code",
      "source": [
        "print(samples)"
      ],
      "metadata": {
        "colab": {
          "base_uri": "https://localhost:8080/"
        },
        "id": "y0nun59ibdTh",
        "outputId": "116ac796-f64d-450e-c33c-3e9a0ba12260"
      },
      "execution_count": null,
      "outputs": [
        {
          "output_type": "stream",
          "name": "stdout",
          "text": [
            "[[1 1 1 ... 0 1 0]\n",
            " [1 0 0 ... 0 1 1]\n",
            " [0 1 1 ... 0 1 1]\n",
            " ...\n",
            " [0 1 1 ... 0 1 0]\n",
            " [1 0 1 ... 1 1 1]\n",
            " [1 1 0 ... 0 0 0]]\n"
          ]
        }
      ]
    },
    {
      "cell_type": "code",
      "source": [
        "row_mean = np.mean(samples, axis=1)"
      ],
      "metadata": {
        "id": "KZI9XTP9cwXr"
      },
      "execution_count": null,
      "outputs": []
    },
    {
      "cell_type": "code",
      "source": [
        "print(row_mean)"
      ],
      "metadata": {
        "colab": {
          "base_uri": "https://localhost:8080/"
        },
        "id": "0z7xx9FYcfkG",
        "outputId": "f815ab23-f8b4-4012-90c0-ab41748d84a5"
      },
      "execution_count": null,
      "outputs": [
        {
          "output_type": "stream",
          "name": "stdout",
          "text": [
            "[0.5  0.65 0.7  ... 0.6  0.6  0.4 ]\n"
          ]
        }
      ]
    },
    {
      "cell_type": "code",
      "source": [
        "epsilons = np.linspace(0,1,50)\n",
        "print(epsilons)"
      ],
      "metadata": {
        "colab": {
          "base_uri": "https://localhost:8080/"
        },
        "id": "MHSGogEtP5Xb",
        "outputId": "cef392b7-bf39-4530-c40d-6c743d6a53fb"
      },
      "execution_count": null,
      "outputs": [
        {
          "output_type": "stream",
          "name": "stdout",
          "text": [
            "[0.         0.02040816 0.04081633 0.06122449 0.08163265 0.10204082\n",
            " 0.12244898 0.14285714 0.16326531 0.18367347 0.20408163 0.2244898\n",
            " 0.24489796 0.26530612 0.28571429 0.30612245 0.32653061 0.34693878\n",
            " 0.36734694 0.3877551  0.40816327 0.42857143 0.44897959 0.46938776\n",
            " 0.48979592 0.51020408 0.53061224 0.55102041 0.57142857 0.59183673\n",
            " 0.6122449  0.63265306 0.65306122 0.67346939 0.69387755 0.71428571\n",
            " 0.73469388 0.75510204 0.7755102  0.79591837 0.81632653 0.83673469\n",
            " 0.85714286 0.87755102 0.89795918 0.91836735 0.93877551 0.95918367\n",
            " 0.97959184 1.        ]\n"
          ]
        }
      ]
    },
    {
      "cell_type": "code",
      "source": [
        "empirical_probability = []\n",
        "for epsilon in epsilons:\n",
        "  f = lambda x : 1 if abs(x - p) > epsilon else 0\n",
        "  f_v = np.vectorize(f)\n",
        "  empirical_probability.append(np.sum(f_v(row_mean)) / N)\n",
        "print(empirical_probability)"
      ],
      "metadata": {
        "colab": {
          "base_uri": "https://localhost:8080/"
        },
        "id": "fWkIH8S6QD67",
        "outputId": "a135604a-f0fa-4f4c-c7ff-a410dca05a1a"
      },
      "execution_count": null,
      "outputs": [
        {
          "output_type": "stream",
          "name": "stdout",
          "text": [
            "[0.824745, 0.824745, 0.824745, 0.503835, 0.503835, 0.264895, 0.264895, 0.264895, 0.11668, 0.11668, 0.041985, 0.041985, 0.041985, 0.01208, 0.01208, 0.00257, 0.00257, 0.00257, 0.000335, 0.000335, 5e-05, 5e-05, 5e-05, 5e-06, 5e-06, 0.0, 0.0, 0.0, 0.0, 0.0, 0.0, 0.0, 0.0, 0.0, 0.0, 0.0, 0.0, 0.0, 0.0, 0.0, 0.0, 0.0, 0.0, 0.0, 0.0, 0.0, 0.0, 0.0, 0.0, 0.0]\n"
          ]
        }
      ]
    },
    {
      "cell_type": "code",
      "source": [
        "mnist = fetch_openml('mnist_784', as_frame=False)\n",
        "data = mnist['data']\n",
        "labels = mnist['target']"
      ],
      "metadata": {
        "colab": {
          "base_uri": "https://localhost:8080/"
        },
        "id": "t-bPxdYFYQxP",
        "outputId": "d9d752ad-1bb6-404d-a547-329b1f3d100f"
      },
      "execution_count": null,
      "outputs": [
        {
          "output_type": "stream",
          "name": "stderr",
          "text": [
            "/usr/local/lib/python3.9/dist-packages/sklearn/datasets/_openml.py:968: FutureWarning: The default value of `parser` will change from `'liac-arff'` to `'auto'` in 1.4. You can set `parser='auto'` to silence this warning. Therefore, an `ImportError` will be raised from 1.4 if the dataset is dense and pandas is not installed. Note that the pandas parser may return different data types. See the Notes Section in fetch_openml's API doc for details.\n",
            "  warn(\n"
          ]
        }
      ]
    },
    {
      "cell_type": "code",
      "source": [
        "idx = numpy.random.RandomState(0).choice(70000, 11000)\n",
        "train = data[idx[:10000], :].astype(int)\n",
        "train_labels = labels[idx[:10000]]\n",
        "test = data[idx[10000:], :].astype(int)\n",
        "test_labels = labels[idx[10000:]]"
      ],
      "metadata": {
        "id": "UYxbGEQaYzRT"
      },
      "execution_count": null,
      "outputs": []
    }
  ]
}